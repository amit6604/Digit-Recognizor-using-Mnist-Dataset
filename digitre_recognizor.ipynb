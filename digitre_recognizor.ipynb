{
  "cells": [
    {
      "metadata": {
        "_uuid": "534f49fc9bdfad4850bca6b72982bb3b440a51e6"
      },
      "cell_type": "markdown",
      "source": "# Import  Libraries"
    },
    {
      "metadata": {
        "_cell_guid": "79c7e3d0-c299-4dcb-8224-4455121ee9b0",
        "_uuid": "d629ff2d2480ee46fbb7e2d37f6b5fab8052498a",
        "trusted": true
      },
      "cell_type": "code",
      "source": "import numpy as np\nimport pandas as pd\nfrom matplotlib import pyplot as plt\nfrom matplotlib import image as mpimg\nimport seaborn as sns\n%matplotlib inline\n\n\nfrom sklearn.model_selection import train_test_split\nfrom sklearn.metrics import confusion_matrix\nimport itertools\nfrom keras.utils.np_utils import to_categorical\nfrom keras.models import Sequential\nfrom keras.optimizers import RMSprop\nfrom keras.layers import Dense, Dropout, Flatten, Conv2D, MaxPool2D\nfrom keras.callbacks import ReduceLROnPlateau\nfrom keras.preprocessing.image import ImageDataGenerator\n\nnp.random.seed(2)\nsns.set(style = 'white', palette = 'deep', context = 'notebook')",
      "execution_count": null,
      "outputs": []
    },
    {
      "metadata": {
        "_uuid": "c9f09ed2d2d0856ce68651a30e658e1f8d45dcfd"
      },
      "cell_type": "markdown",
      "source": "# Data Preparing"
    },
    {
      "metadata": {
        "trusted": true,
        "_uuid": "ef11a52ed948da90848cfb14a48c12fe4a481cd0"
      },
      "cell_type": "code",
      "source": "# Loading Dataset\ntrain = pd.read_csv('../input/train.csv')\ntest = pd.read_csv('../input/test.csv')\n",
      "execution_count": null,
      "outputs": []
    },
    {
      "metadata": {
        "trusted": true,
        "_uuid": "d2c206e4d41f0ca188bb917276083e6d66b121fe"
      },
      "cell_type": "code",
      "source": "train.head()",
      "execution_count": null,
      "outputs": []
    },
    {
      "metadata": {
        "trusted": true,
        "_uuid": "3034708ea4365145f1bfec3c2d20298dc0a7eef4"
      },
      "cell_type": "code",
      "source": "test.head()",
      "execution_count": null,
      "outputs": []
    },
    {
      "metadata": {
        "trusted": true,
        "_uuid": "aba646348cff699cbf52a6707584a0e19f4cd476"
      },
      "cell_type": "code",
      "source": "Y_train = train.label\n\nX_train = train.drop('label',axis=1)\n\ngraph = sns.countplot(Y_train)\n\nY_train.value_counts()",
      "execution_count": null,
      "outputs": []
    },
    {
      "metadata": {
        "_uuid": "a2875697de20f73ee16e9af4fab28c2e36501e8e"
      },
      "cell_type": "markdown",
      "source": "# Check with null values"
    },
    {
      "metadata": {
        "trusted": true,
        "_uuid": "087fc20718faedf4485dd9ad51758ba94e487477"
      },
      "cell_type": "code",
      "source": "X_train.isnull().any().describe()",
      "execution_count": null,
      "outputs": []
    },
    {
      "metadata": {
        "trusted": true,
        "_uuid": "245ff35e2eab51f3ebd6bec72a586cd089bc91f1"
      },
      "cell_type": "code",
      "source": "test.isnull().any().describe()",
      "execution_count": null,
      "outputs": []
    },
    {
      "metadata": {
        "_uuid": "3e25767ec20d994df3a38513c796702f9e095d78"
      },
      "cell_type": "markdown",
      "source": "There is no null or missing values"
    },
    {
      "metadata": {
        "_uuid": "72e3d8056af33856e9fd63a2e5e0b880f6255742"
      },
      "cell_type": "markdown",
      "source": "# Normalizing Data"
    },
    {
      "metadata": {
        "trusted": true,
        "_uuid": "6f3bf6b63db90d86624e201f90aad090a452e576"
      },
      "cell_type": "code",
      "source": "X_train = X_train / 255.0\ntest = test / 255.0",
      "execution_count": null,
      "outputs": []
    },
    {
      "metadata": {
        "_uuid": "fd26eb1a50cb055a64f407063d6b2acd9a8c7eff"
      },
      "cell_type": "markdown",
      "source": "# Reshape Data\n\nFlattening matrix into 28*28 matrix"
    },
    {
      "metadata": {
        "trusted": true,
        "_uuid": "11078bc3b9b0da32d9e14c78b6d51033e8642caa"
      },
      "cell_type": "code",
      "source": "X_train = X_train.values.reshape(-1,28,28,1)\ntest = test.values.reshape(-1,28,28,1)",
      "execution_count": null,
      "outputs": []
    },
    {
      "metadata": {
        "_uuid": "66b8bd6820dea3c4624d7f468e855c4614d3e171"
      },
      "cell_type": "markdown",
      "source": "# Label Encoding"
    },
    {
      "metadata": {
        "trusted": true,
        "_uuid": "7cfab7265363dddf9003de2be9ae8eec9d7b15ba"
      },
      "cell_type": "code",
      "source": "# Label encoding to one hot vectors (ex - for 3 [0,0,0,1,0,0,0,0,0,0])\nY_train = to_categorical(Y_train, num_classes = 10)",
      "execution_count": null,
      "outputs": []
    },
    {
      "metadata": {
        "trusted": true,
        "_uuid": "4a048aef1a2b22f719a5783d279b684d40f22577"
      },
      "cell_type": "code",
      "source": "X_train , X_test, Y_train, Y_test = train_test_split(X_train, Y_train, test_size = 0.20, random_state=4)",
      "execution_count": null,
      "outputs": []
    },
    {
      "metadata": {
        "trusted": true,
        "_uuid": "1d032e98415dd86110771da850ced992a939dd5d"
      },
      "cell_type": "code",
      "source": "graph = plt.imshow(X_train[4][:,:,0])\n",
      "execution_count": null,
      "outputs": []
    },
    {
      "metadata": {
        "trusted": true,
        "_uuid": "639778cb860e4b5f1d4f60d5560ee3c5b2d9c3e7"
      },
      "cell_type": "markdown",
      "source": "# Define the model"
    },
    {
      "metadata": {
        "trusted": true,
        "_uuid": "851d11c51f09959e130710f7cae239e9b8104fc1"
      },
      "cell_type": "code",
      "source": "model = Sequential()\nmodel.add(Conv2D(filters = 32, kernel_size = (3,3), padding = 'Same', activation = 'relu', input_shape = (28,28,1)))\nmodel.add(Conv2D(filters = 32, kernel_size = (3,3), padding = 'Same', activation = 'relu'))\nmodel.add(MaxPool2D(pool_size = (3,3)))\nmodel.add(Dropout(0.25))\n\nmodel.add(Conv2D(filters = 64, kernel_size = (3,3), padding = 'Same', activation = 'relu'))\nmodel.add(Conv2D(filters = 64, kernel_size = (3,3), padding = 'Same', activation = 'relu'))\nmodel.add(Dropout(0.25))\nmodel.add(Flatten())\nmodel.add(Dense(256, activation = \"relu\"))\nmodel.add(Dropout(0.25))\nmodel.add(Dense(10, activation = \"softmax\"))",
      "execution_count": null,
      "outputs": []
    },
    {
      "metadata": {
        "_uuid": "a548f81cb200f274725bd579dcb78ac9574baacc"
      },
      "cell_type": "markdown",
      "source": "# set the optimizer"
    },
    {
      "metadata": {
        "trusted": true,
        "_uuid": "56ef27e4f1cd9a56a1d0eda95db07d09e4161072"
      },
      "cell_type": "code",
      "source": "optimizer = RMSprop(lr = 0.001,rho = 0.9, epsilon = 1e-08, decay = 0.0)",
      "execution_count": null,
      "outputs": []
    },
    {
      "metadata": {
        "trusted": true,
        "_uuid": "60058d34675bad78fa50918a204dfb7b801b46dc"
      },
      "cell_type": "code",
      "source": "model.compile(optimizer = optimizer, loss = \"categorical_crossentropy\", metrics = [\"accuracy\"])",
      "execution_count": null,
      "outputs": []
    },
    {
      "metadata": {
        "trusted": true,
        "_uuid": "bbf4b1ecad20dd4433f82bf1f58354aa3f036daa"
      },
      "cell_type": "code",
      "source": "learning_rate_reduction = ReduceLROnPlateau(monitor = 'val_acc',\n                                            patience = 3, \n                                            verbose = 1, \n                                            factor = 0.5, \n                                            min_lr = 0.00001)\n",
      "execution_count": null,
      "outputs": []
    },
    {
      "metadata": {
        "trusted": true,
        "_uuid": "b2a47961a069a097acc4bf2e955fa163d35153d8"
      },
      "cell_type": "code",
      "source": "epochs = 1\nbatch_size = 50",
      "execution_count": null,
      "outputs": []
    },
    {
      "metadata": {
        "_uuid": "8a32673e2f25cf0434c62a598a2b4f419c034c01"
      },
      "cell_type": "markdown",
      "source": "# Data Augmentation "
    },
    {
      "metadata": {
        "trusted": true,
        "_uuid": "7a147201899d5a420ea0a4f3da6c67283eacfa2e"
      },
      "cell_type": "code",
      "source": "datagen = ImageDataGenerator(\n    featurewise_center = False,\n    samplewise_center = False,\n    featurewise_std_normalization = False,\n    samplewise_std_normalization = False,\n    zca_whitening = False,\n    rotation_range = 10,\n    zoom_range = 0.1,\n    width_shift_range = 0.1,\n    height_shift_range = 0.1,\n    horizontal_flip = False,\n    vertical_flip = False)\ndatagen.fit(X_train)",
      "execution_count": null,
      "outputs": []
    },
    {
      "metadata": {
        "_uuid": "11992be0013d4ca51c44dec78cdb04713f0997c2"
      },
      "cell_type": "markdown",
      "source": "# Fit the model"
    },
    {
      "metadata": {
        "trusted": true,
        "_uuid": "4fe4d972fb75f789af13496e25dc4fb6883d3aaa"
      },
      "cell_type": "code",
      "source": "history = model.fit_generator(datagen.flow(X_train, Y_train, batch_size=batch_size),\n                              epochs = epochs, validation_data = (X_test, Y_test),\n                              verbose = 2, steps_per_epoch = X_train.shape[0],\n                              callbacks = [learning_rate_reduction])",
      "execution_count": null,
      "outputs": []
    },
    {
      "metadata": {
        "trusted": true,
        "_uuid": "47681cd46308aad29ec11ffb0e0147fb2961132b"
      },
      "cell_type": "markdown",
      "source": "# Model Evaluation"
    },
    {
      "metadata": {
        "trusted": true,
        "_uuid": "a4d27eba66c4bfc37b91faae851abb58a5e54c65"
      },
      "cell_type": "code",
      "source": "# Plot the loss and accuracy curves for training and validation \nfig, ax = plt.subplots(2,1)\nax[0].plot(history.history['loss'], color='b', label=\"Training loss\")\nax[0].plot(history.history['val_loss'], color='r', label=\"validation loss\",axes =ax[0])\nlegend = ax[0].legend(loc='best', shadow=True)\n\nax[1].plot(history.history['acc'], color='b', label=\"Training accuracy\")\nax[1].plot(history.history['val_acc'], color='r',label=\"Validation accuracy\")\nlegend = ax[1].legend(loc='best', shadow=True)",
      "execution_count": null,
      "outputs": []
    },
    {
      "metadata": {
        "trusted": true,
        "_uuid": "92237876b09c7472950dc5c1169f35430daacbaa"
      },
      "cell_type": "code",
      "source": "# Look at confusion matrix \n\ndef plot_confusion_matrix(cm, classes,\n                          normalize=False,\n                          title='Confusion matrix',\n                          cmap=plt.cm.Blues):\n    \"\"\"\n    This function prints and plots the confusion matrix.\n    Normalization can be applied by setting `normalize=True`.\n    \"\"\"\n    plt.imshow(cm, interpolation='nearest', cmap=cmap)\n    plt.title(title)\n    plt.colorbar()\n    tick_marks = np.arange(len(classes))\n    plt.xticks(tick_marks, classes, rotation=45)\n    plt.yticks(tick_marks, classes)\n\n    if normalize:\n        cm = cm.astype('float') / cm.sum(axis=1)[:, np.newaxis]\n\n    thresh = cm.max() / 2.\n    for i, j in itertools.product(range(cm.shape[0]), range(cm.shape[1])):\n        plt.text(j, i, cm[i, j],\n                 horizontalalignment=\"center\",\n                 color=\"white\" if cm[i, j] > thresh else \"black\")\n\n    plt.tight_layout()\n    plt.ylabel('True label')\n    plt.xlabel('Predicted label')\n\n# Predict the values from the validation dataset\nY_pred = model.predict(X_test)\n# Convert predictions classes to one hot vectors \nY_pred_classes = np.argmax(Y_pred,axis = 1) \n# Convert validation observations to one hot vectors\nY_true = np.argmax(Y_test,axis = 1) \n# compute the confusion matrix\nconfusion_mtx = confusion_matrix(Y_true, Y_pred_classes) \n# plot the confusion matrix\nplot_confusion_matrix(confusion_mtx, classes = range(10)) ",
      "execution_count": null,
      "outputs": []
    },
    {
      "metadata": {
        "trusted": true,
        "_uuid": "02811a852722ea359cc3e0486c9af9c127992428"
      },
      "cell_type": "code",
      "source": "# Display some error results \n\n# Errors are difference between predicted labels and true labels\nerrors = (Y_pred_classes - Y_true != 0)\n\nY_pred_classes_errors = Y_pred_classes[errors]\nY_pred_errors = Y_pred[errors]\nY_true_errors = Y_true[errors]\nX_test_errors = X_test[errors]\n\ndef display_errors(errors_index,img_errors,pred_errors, obs_errors):\n    \"\"\" This function shows 6 images with their predicted and real labels\"\"\"\n    n = 0\n    nrows = 2\n    ncols = 3\n    fig, ax = plt.subplots(nrows,ncols,sharex=True,sharey=True)\n    for row in range(nrows):\n        for col in range(ncols):\n            error = errors_index[n]\n            ax[row,col].imshow((img_errors[error]).reshape((28,28)))\n            ax[row,col].set_title(\"Predicted label :{}\\nTrue label :{}\".format(pred_errors[error],obs_errors[error]))\n            n += 1\n\n# Probabilities of the wrong predicted numbers\nY_pred_errors_prob = np.max(Y_pred_errors,axis = 1)\n\n# Predicted probabilities of the true values in the error set\ntrue_prob_errors = np.diagonal(np.take(Y_pred_errors, Y_true_errors, axis=1))\n\n# Difference between the probability of the predicted label and the true label\ndelta_pred_true_errors = Y_pred_errors_prob - true_prob_errors\n\n# Sorted list of the delta prob errors\nsorted_dela_errors = np.argsort(delta_pred_true_errors)\n\n# Top 6 errors \nmost_important_errors = sorted_dela_errors[-6:]\n\n# Show the top 6 errors\ndisplay_errors(most_important_errors, X_test_errors, Y_pred_classes_errors, Y_true_errors)",
      "execution_count": null,
      "outputs": []
    },
    {
      "metadata": {
        "trusted": true,
        "_uuid": "bdeba1e7c6db90714bfc4ef86a8308da51e689e6"
      },
      "cell_type": "code",
      "source": "# predict results\nresults = model.predict(test)\n\n# select the indix with the maximum probability\nresults = np.argmax(results,axis = 1)\n\nresults = pd.Series(results,name=\"Label\")",
      "execution_count": null,
      "outputs": []
    },
    {
      "metadata": {
        "trusted": true,
        "_uuid": "9e877151f10d91db0719426511a81d13298c1c45"
      },
      "cell_type": "code",
      "source": "submission = pd.concat([pd.Series(range(1,28001),name = \"ImageId\"),results],axis = 1)\n\nsubmission.to_csv(\"mnist_submission.csv\",index=False)",
      "execution_count": null,
      "outputs": []
    },
    {
      "metadata": {
        "trusted": true,
        "_uuid": "07a7b43e57589d6128313f207d0f23bbda8cf312"
      },
      "cell_type": "code",
      "source": "result = pd.read_csv(\"mnist_submission.csv\")",
      "execution_count": null,
      "outputs": []
    },
    {
      "metadata": {
        "trusted": true,
        "_uuid": "a5ec60618db635e69c0b624cbe993f82df551c5a"
      },
      "cell_type": "code",
      "source": "result.head()",
      "execution_count": null,
      "outputs": []
    }
  ],
  "metadata": {
    "kernelspec": {
      "display_name": "Python 3",
      "language": "python",
      "name": "python3"
    },
    "language_info": {
      "name": "python",
      "version": "3.6.6",
      "mimetype": "text/x-python",
      "codemirror_mode": {
        "name": "ipython",
        "version": 3
      },
      "pygments_lexer": "ipython3",
      "nbconvert_exporter": "python",
      "file_extension": ".py"
    }
  },
  "nbformat": 4,
  "nbformat_minor": 1
}